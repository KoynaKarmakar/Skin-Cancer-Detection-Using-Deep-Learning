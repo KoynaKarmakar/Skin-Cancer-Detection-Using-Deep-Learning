{
  "cells": [
    {
      "cell_type": "markdown",
      "metadata": {
        "id": "view-in-github",
        "colab_type": "text"
      },
      "source": [
        "<a href=\"https://colab.research.google.com/github/KoynaKarmakar/Skin-Cancer-Detection-Using-Deep-Learning/blob/main/Skin_Cancer_Resnet.ipynb\" target=\"_parent\"><img src=\"https://colab.research.google.com/assets/colab-badge.svg\" alt=\"Open In Colab\"/></a>"
      ]
    },
    {
      "cell_type": "code",
      "execution_count": null,
      "metadata": {
        "colab": {
          "base_uri": "https://localhost:8080/"
        },
        "id": "LcSbHAXRBUi2",
        "outputId": "d5a26d9d-b8d7-4380-ca96-b6ec9ada405d"
      },
      "outputs": [
        {
          "name": "stdout",
          "output_type": "stream",
          "text": [
            "✅ Dataset extracted successfully!\n"
          ]
        },
        {
          "data": {
            "text/plain": [
              "['ISIC_2024_Resize224']"
            ]
          },
          "execution_count": 2,
          "metadata": {},
          "output_type": "execute_result"
        }
      ],
      "source": [
        "import zipfile\n",
        "import os\n",
        "\n",
        "# Define paths\n",
        "zip_path = \"/content/archive (1).zip\"  # Path to the downloaded ZIP file\n",
        "extract_path = \"/content/skin_cancer_data\"  # Destination folder for extracted files\n",
        "\n",
        "# Extract dataset\n",
        "with zipfile.ZipFile(zip_path, 'r') as zip_ref:\n",
        "    zip_ref.extractall(extract_path)\n",
        "\n",
        "print(\"✅ Dataset extracted successfully!\")\n",
        "\n",
        "# List extracted files & folders\n",
        "os.listdir(extract_path)\n",
        "\n"
      ]
    },
    {
      "cell_type": "code",
      "execution_count": null,
      "metadata": {
        "colab": {
          "base_uri": "https://localhost:8080/"
        },
        "id": "n9fq3nKaOIXc",
        "outputId": "e4f43b37-819d-4435-a6f7-7cd6aed9fdb0"
      },
      "outputs": [
        {
          "name": "stdout",
          "output_type": "stream",
          "text": [
            "Mounted at /content/drive\n"
          ]
        }
      ],
      "source": [
        "from google.colab import drive\n",
        "drive.mount('/content/drive')"
      ]
    },
    {
      "cell_type": "code",
      "execution_count": null,
      "metadata": {
        "colab": {
          "base_uri": "https://localhost:8080/"
        },
        "id": "Jem8g21VENoq",
        "outputId": "00a44925-944d-4b9e-ef7d-71db732318d9"
      },
      "outputs": [
        {
          "name": "stdout",
          "output_type": "stream",
          "text": [
            "📂 Extracted files & folders: ['ISIC_2024_Resize224']\n"
          ]
        }
      ],
      "source": [
        "import os\n",
        "\n",
        "# List the contents of the extracted folder\n",
        "extracted_files = os.listdir(\"/content/skin_cancer_data\")\n",
        "print(\"📂 Extracted files & folders:\", extracted_files)\n"
      ]
    },
    {
      "cell_type": "code",
      "execution_count": null,
      "metadata": {
        "colab": {
          "base_uri": "https://localhost:8080/"
        },
        "id": "m_3F3Bt5HWs5",
        "outputId": "819d3b0b-4238-41f7-bef6-a4364f336bd1"
      },
      "outputs": [
        {
          "name": "stdout",
          "output_type": "stream",
          "text": [
            "🖼 Sample image files: ['train', 'test']\n"
          ]
        }
      ],
      "source": [
        "import os\n",
        "\n",
        "image_folder = \"/content/skin_cancer_data/ISIC_2024_Resize224\"\n",
        "\n",
        "# List a few sample images\n",
        "sample_images = os.listdir(image_folder)[:10]  # Show first 10 files\n",
        "print(\"🖼 Sample image files:\", sample_images)\n"
      ]
    },
    {
      "cell_type": "code",
      "execution_count": null,
      "metadata": {
        "colab": {
          "base_uri": "https://localhost:8080/"
        },
        "id": "KTOTsQqhHft_",
        "outputId": "98310a85-57e5-4e20-84b5-853395d139c6"
      },
      "outputs": [
        {
          "name": "stdout",
          "output_type": "stream",
          "text": [
            "📂 Subdirectories: ['train', 'test']\n"
          ]
        }
      ],
      "source": [
        "import os\n",
        "\n",
        "# Define the base dataset folder\n",
        "image_folder = \"/content/skin_cancer_data/ISIC_2024_Resize224\"\n",
        "\n",
        "# List subdirectories inside ISIC_2024_Resize224\n",
        "subdirs = os.listdir(image_folder)\n",
        "print(\"📂 Subdirectories:\", subdirs)\n",
        "\n"
      ]
    },
    {
      "cell_type": "code",
      "execution_count": null,
      "metadata": {
        "colab": {
          "base_uri": "https://localhost:8080/"
        },
        "id": "AgOh_4DWHkUK",
        "outputId": "db5de3fd-a364-473d-82a1-acdf6b057417"
      },
      "outputs": [
        {
          "name": "stdout",
          "output_type": "stream",
          "text": [
            "🖼 Sample training images: ['Malignant', 'Benign']\n",
            "🖼 Sample test images: ['Malignant', 'Benign']\n"
          ]
        }
      ],
      "source": [
        "import os\n",
        "\n",
        "# Define paths\n",
        "train_folder = \"/content/skin_cancer_data/ISIC_2024_Resize224/train\"\n",
        "test_folder = \"/content/skin_cancer_data/ISIC_2024_Resize224/test\"\n",
        "\n",
        "# List some images from the train folder\n",
        "train_images = os.listdir(train_folder)[:10]  # Show first 10 images\n",
        "print(\"🖼 Sample training images:\", train_images)\n",
        "\n",
        "# List some images from the test folder\n",
        "test_images = os.listdir(test_folder)[:10]  # Show first 10 images\n",
        "print(\"🖼 Sample test images:\", test_images)\n"
      ]
    },
    {
      "cell_type": "code",
      "execution_count": null,
      "metadata": {
        "colab": {
          "base_uri": "https://localhost:8080/"
        },
        "id": "oDPu6L1vH5AK",
        "outputId": "f9f8ea6b-a2dc-42d0-e531-8ab558c9d57b"
      },
      "outputs": [
        {
          "name": "stdout",
          "output_type": "stream",
          "text": [
            "🖼 Sample Malignant training images: ['4434.jpg', 'ISIC_0032687.jpg', '2500.jpg', '2032.jpg', '2590.jpg']\n",
            "🖼 Sample Benign training images: ['4434.jpg', '2500.jpg', '2032.jpg', '2590.jpg', '2293.jpg']\n",
            "🖼 Sample Malignant test images: ['6512.jpg', '5977.jpg', '6147.jpg', '5945.jpg', '6402.jpg']\n",
            "🖼 Sample Benign test images: ['7263.jpg', '6512.jpg', '7250.jpg', '6682.jpg', '6402.jpg']\n"
          ]
        }
      ],
      "source": [
        "import os\n",
        "\n",
        "# Define paths\n",
        "train_malignant = os.path.join(train_folder, \"Malignant\")\n",
        "train_benign = os.path.join(train_folder, \"Benign\")\n",
        "\n",
        "test_malignant = os.path.join(test_folder, \"Malignant\")\n",
        "test_benign = os.path.join(test_folder, \"Benign\")\n",
        "\n",
        "# List some images from each category\n",
        "train_malignant_images = os.listdir(train_malignant)[:5]  # First 5 images\n",
        "train_benign_images = os.listdir(train_benign)[:5]\n",
        "test_malignant_images = os.listdir(test_malignant)[:5]\n",
        "test_benign_images = os.listdir(test_benign)[:5]\n",
        "\n",
        "print(\"🖼 Sample Malignant training images:\", train_malignant_images)\n",
        "print(\"🖼 Sample Benign training images:\", train_benign_images)\n",
        "print(\"🖼 Sample Malignant test images:\", test_malignant_images)\n",
        "print(\"🖼 Sample Benign test images:\", test_benign_images)\n"
      ]
    },
    {
      "cell_type": "code",
      "execution_count": null,
      "metadata": {
        "colab": {
          "base_uri": "https://localhost:8080/"
        },
        "id": "OyLuSutDIhkx",
        "outputId": "9399dc07-905a-4a31-cfc6-a22bd8a667f4"
      },
      "outputs": [
        {
          "name": "stdout",
          "output_type": "stream",
          "text": [
            "✅ Image metadata saved as image_metadata.csv\n",
            "                                          image_path      label\n",
            "0  /content/skin_cancer_data/ISIC_2024_Resize224/...  Malignant\n",
            "1  /content/skin_cancer_data/ISIC_2024_Resize224/...  Malignant\n",
            "2  /content/skin_cancer_data/ISIC_2024_Resize224/...  Malignant\n",
            "3  /content/skin_cancer_data/ISIC_2024_Resize224/...  Malignant\n",
            "4  /content/skin_cancer_data/ISIC_2024_Resize224/...  Malignant\n"
          ]
        }
      ],
      "source": [
        "import pandas as pd\n",
        "\n",
        "# Create lists to store image paths and labels\n",
        "image_paths = []\n",
        "labels = []\n",
        "\n",
        "# Function to load images from a folder\n",
        "def load_images_from_folder(folder, label):\n",
        "    for filename in os.listdir(folder):\n",
        "        image_paths.append(os.path.join(folder, filename))\n",
        "        labels.append(label)\n",
        "\n",
        "# Load images from train and test folders\n",
        "load_images_from_folder(train_malignant, \"Malignant\")\n",
        "load_images_from_folder(train_benign, \"Benign\")\n",
        "load_images_from_folder(test_malignant, \"Malignant\")\n",
        "load_images_from_folder(test_benign, \"Benign\")\n",
        "\n",
        "# Create a DataFrame\n",
        "df_images = pd.DataFrame({\"image_path\": image_paths, \"label\": labels})\n",
        "\n",
        "# Save CSV for reference\n",
        "df_images.to_csv(\"/content/image_metadata.csv\", index=False)\n",
        "\n",
        "print(\"✅ Image metadata saved as image_metadata.csv\")\n",
        "print(df_images.head())\n"
      ]
    },
    {
      "cell_type": "code",
      "execution_count": null,
      "metadata": {
        "colab": {
          "base_uri": "https://localhost:8080/"
        },
        "id": "oWYxr7xTIr7M",
        "outputId": "3b87f16d-5720-4938-f89d-4f41929e4da8"
      },
      "outputs": [
        {
          "name": "stdout",
          "output_type": "stream",
          "text": [
            "✅ Dataset created successfully!\n"
          ]
        }
      ],
      "source": [
        "import tensorflow as tf\n",
        "import pandas as pd\n",
        "\n",
        "# Load metadata CSV\n",
        "df_images = pd.read_csv(\"/content/image_metadata.csv\")\n",
        "\n",
        "# Image parameters\n",
        "IMG_SIZE = (224, 224)\n",
        "BATCH_SIZE = 32  # Adjust based on available memory\n",
        "\n",
        "# Function to process images\n",
        "def load_and_preprocess_image(image_path, label):\n",
        "    image = tf.io.read_file(image_path)\n",
        "    image = tf.image.decode_jpeg(image, channels=3)  # Decode JPEG\n",
        "    image = tf.image.resize(image, IMG_SIZE)  # Resize to (224, 224)\n",
        "    image = image / 255.0  # Normalize to [0,1]\n",
        "    return image, label\n",
        "\n",
        "# Convert labels to binary values\n",
        "df_images[\"label\"] = df_images[\"label\"].map({\"Malignant\": 1, \"Benign\": 0})\n",
        "\n",
        "# Create TensorFlow dataset\n",
        "image_paths = df_images[\"image_path\"].values\n",
        "labels = df_images[\"label\"].values\n",
        "\n",
        "dataset = tf.data.Dataset.from_tensor_slices((image_paths, labels))\n",
        "dataset = dataset.map(load_and_preprocess_image, num_parallel_calls=tf.data.AUTOTUNE)\n",
        "dataset = dataset.batch(BATCH_SIZE).prefetch(tf.data.AUTOTUNE)\n",
        "\n",
        "print(\"✅ Dataset created successfully!\")\n",
        "\n",
        "\n"
      ]
    },
    {
      "cell_type": "code",
      "execution_count": null,
      "metadata": {
        "colab": {
          "base_uri": "https://localhost:8080/"
        },
        "id": "mQ5z0EgjI0yb",
        "outputId": "c0551ed6-3824-4753-c2a5-12085d80fe85"
      },
      "outputs": [
        {
          "name": "stdout",
          "output_type": "stream",
          "text": [
            "✅ Training set size: 11662\n",
            "✅ Validation set size: 2916\n"
          ]
        }
      ],
      "source": [
        "# Define split ratio\n",
        "TRAIN_RATIO = 0.8\n",
        "\n",
        "# Get dataset size\n",
        "dataset_size = len(df_images)\n",
        "\n",
        "# Calculate split index\n",
        "train_size = int(TRAIN_RATIO * dataset_size)\n",
        "\n",
        "# Shuffle dataset before splitting\n",
        "dataset = dataset.shuffle(buffer_size=dataset_size, reshuffle_each_iteration=True)\n",
        "\n",
        "# Split dataset\n",
        "train_dataset = dataset.take(train_size)\n",
        "val_dataset = dataset.skip(train_size)\n",
        "\n",
        "train_dataset = train_dataset.prefetch(tf.data.AUTOTUNE)\n",
        "val_dataset = val_dataset.prefetch(tf.data.AUTOTUNE)\n",
        "\n",
        "print(f\"✅ Training set size: {train_size}\")\n",
        "print(f\"✅ Validation set size: {dataset_size - train_size}\")\n"
      ]
    },
    {
      "cell_type": "code",
      "execution_count": null,
      "metadata": {
        "colab": {
          "base_uri": "https://localhost:8080/"
        },
        "id": "aaNGiqKPK43M",
        "outputId": "38a3e925-81aa-4824-f533-3812a19028c0"
      },
      "outputs": [
        {
          "name": "stdout",
          "output_type": "stream",
          "text": [
            "Downloading data from https://storage.googleapis.com/tensorflow/keras-applications/resnet/resnet50_weights_tf_dim_ordering_tf_kernels_notop.h5\n",
            "\u001b[1m94765736/94765736\u001b[0m \u001b[32m━━━━━━━━━━━━━━━━━━━━\u001b[0m\u001b[37m\u001b[0m \u001b[1m1s\u001b[0m 0us/step\n",
            "✅ ResNet model is ready!\n"
          ]
        }
      ],
      "source": [
        "from tensorflow.keras.applications import ResNet50\n",
        "from tensorflow.keras import layers, models\n",
        "\n",
        "# Load ResNet50 without the top layer (pretrained on ImageNet)\n",
        "base_model = ResNet50(weights=\"imagenet\", include_top=False, input_shape=(224, 224, 3))\n",
        "\n",
        "# Freeze the base model\n",
        "base_model.trainable = False\n",
        "\n",
        "# Build model\n",
        "model = models.Sequential([\n",
        "    base_model,\n",
        "    layers.GlobalAveragePooling2D(),\n",
        "    layers.Dense(256, activation=\"relu\"),\n",
        "    layers.Dropout(0.3),\n",
        "    layers.Dense(1, activation=\"sigmoid\")  # Binary classification\n",
        "])\n",
        "\n",
        "# Compile model\n",
        "model.compile(optimizer=\"adam\", loss=\"binary_crossentropy\", metrics=[\"accuracy\"])\n",
        "\n",
        "\n",
        "\n",
        "print(\"✅ ResNet model is ready!\")\n"
      ]
    },
    {
      "cell_type": "code",
      "execution_count": null,
      "metadata": {
        "colab": {
          "background_save": true,
          "base_uri": "https://localhost:8080/"
        },
        "id": "DLAPayjAK9St",
        "outputId": "85575a8d-014f-4823-be2f-8f7c5c2085b9"
      },
      "outputs": [
        {
          "name": "stdout",
          "output_type": "stream",
          "text": [
            "Epoch 1/10\n",
            "\u001b[1m456/456\u001b[0m \u001b[32m━━━━━━━━━━━━━━━━━━━━\u001b[0m\u001b[37m\u001b[0m \u001b[1m2661s\u001b[0m 6s/step - accuracy: 0.4932 - loss: 0.8133\n",
            "Epoch 2/10\n"
          ]
        },
        {
          "name": "stderr",
          "output_type": "stream",
          "text": [
            "/usr/local/lib/python3.11/dist-packages/keras/src/trainers/epoch_iterator.py:151: UserWarning: Your input ran out of data; interrupting training. Make sure that your dataset or generator can generate at least `steps_per_epoch * epochs` batches. You may need to use the `.repeat()` function when building your dataset.\n",
            "  self._interrupted_warning()\n"
          ]
        },
        {
          "name": "stdout",
          "output_type": "stream",
          "text": [
            "\u001b[1m456/456\u001b[0m \u001b[32m━━━━━━━━━━━━━━━━━━━━\u001b[0m\u001b[37m\u001b[0m \u001b[1m2575s\u001b[0m 6s/step - accuracy: 0.4809 - loss: 0.6980\n",
            "Epoch 3/10\n",
            "\u001b[1m456/456\u001b[0m \u001b[32m━━━━━━━━━━━━━━━━━━━━\u001b[0m\u001b[37m\u001b[0m \u001b[1m2600s\u001b[0m 6s/step - accuracy: 0.5140 - loss: 0.6917\n",
            "Epoch 4/10\n",
            "\u001b[1m456/456\u001b[0m \u001b[32m━━━━━━━━━━━━━━━━━━━━\u001b[0m\u001b[37m\u001b[0m \u001b[1m2609s\u001b[0m 6s/step - accuracy: 0.4806 - loss: 0.6952\n",
            "Epoch 5/10\n",
            "\u001b[1m456/456\u001b[0m \u001b[32m━━━━━━━━━━━━━━━━━━━━\u001b[0m\u001b[37m\u001b[0m \u001b[1m2612s\u001b[0m 6s/step - accuracy: 0.4748 - loss: 0.6956\n",
            "Epoch 6/10\n",
            "\u001b[1m456/456\u001b[0m \u001b[32m━━━━━━━━━━━━━━━━━━━━\u001b[0m\u001b[37m\u001b[0m \u001b[1m2522s\u001b[0m 6s/step - accuracy: 0.4943 - loss: 0.6933\n",
            "Epoch 7/10\n",
            "\u001b[1m456/456\u001b[0m \u001b[32m━━━━━━━━━━━━━━━━━━━━\u001b[0m\u001b[37m\u001b[0m \u001b[1m2565s\u001b[0m 6s/step - accuracy: 0.5214 - loss: 0.6926\n",
            "Epoch 8/10\n",
            "\u001b[1m456/456\u001b[0m \u001b[32m━━━━━━━━━━━━━━━━━━━━\u001b[0m\u001b[37m\u001b[0m \u001b[1m2522s\u001b[0m 6s/step - accuracy: 0.5108 - loss: 0.6934\n",
            "Epoch 9/10\n",
            "\u001b[1m456/456\u001b[0m \u001b[32m━━━━━━━━━━━━━━━━━━━━\u001b[0m\u001b[37m\u001b[0m \u001b[1m2512s\u001b[0m 5s/step - accuracy: 0.5544 - loss: 0.6921\n",
            "Epoch 10/10\n",
            "\u001b[1m456/456\u001b[0m \u001b[32m━━━━━━━━━━━━━━━━━━━━\u001b[0m\u001b[37m\u001b[0m \u001b[1m2557s\u001b[0m 6s/step - accuracy: 0.5101 - loss: 0.6925\n",
            "✅ Model training complete!\n"
          ]
        }
      ],
      "source": [
        "# Define training parameters\n",
        "# Train the model\n",
        "history = model.fit(\n",
        "    train_dataset,  # No need to apply .batch() again\n",
        "    validation_data=val_dataset,\n",
        "    epochs=10\n",
        ")\n",
        "\n",
        "\n",
        "\n",
        "print(\"✅ Model training complete!\")\n"
      ]
    },
    {
      "cell_type": "code",
      "execution_count": null,
      "metadata": {
        "colab": {
          "background_save": true
        },
        "id": "IPPNfh-gMZjA"
      },
      "outputs": [],
      "source": []
    }
  ],
  "metadata": {
    "colab": {
      "provenance": [],
      "authorship_tag": "ABX9TyPUR+Y7k+g2LcG1e7AURe/W",
      "include_colab_link": true
    },
    "kernelspec": {
      "display_name": "Python 3",
      "name": "python3"
    },
    "language_info": {
      "name": "python"
    }
  },
  "nbformat": 4,
  "nbformat_minor": 0
}